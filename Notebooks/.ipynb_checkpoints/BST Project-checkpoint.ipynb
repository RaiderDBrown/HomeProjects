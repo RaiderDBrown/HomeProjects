{
 "cells": [
  {
   "cell_type": "code",
   "execution_count": 1,
   "metadata": {},
   "outputs": [],
   "source": [
    "import bst"
   ]
  },
  {
   "cell_type": "code",
   "execution_count": 2,
   "metadata": {},
   "outputs": [],
   "source": [
    "import random\n",
    "size = 10\n",
    "diameters = [random.randint(1, 6) for i in range(size)]\n",
    "fruits = random.choices(['Apple', 'Grape', 'Lemon'], k=size)\n",
    "colors = random.choices(['Green', 'Yellow', 'Red'], k=size)\n",
    "for i, fruit in enumerate(fruits):\n",
    "    if fruit == 'Lemon':\n",
    "        colors[i] = 'Yellow'\n",
    "        diameters[i] = random.triangular(3, 4, 5)\n",
    "    if fruit == 'Grape':\n",
    "        colors[i] = 'Green'\n",
    "        diameters[i] = random.triangular(1, 1.5, 2)\n",
    "    if fruit == 'Apple':\n",
    "        colors[i] = random.choice(['Red', 'Green'])\n",
    "        diameters[i] = random.triangular(3, 5, 6)\n",
    "header = [\"color\", \"diameter\", \"fruit\"]\n",
    "data = [list(row) for row in zip(colors, diameters, fruits)]"
   ]
  },
  {
   "cell_type": "code",
   "execution_count": 3,
   "metadata": {},
   "outputs": [
    {
     "name": "stdout",
     "output_type": "stream",
     "text": [
      "Tree 1 Node 1 Completed at 102.48540329933167\n",
      "Tree 1 Node 2 Completed at 102.48638820648193\n",
      "Tree 1 Node 3 Completed at 102.48758625984192\n"
     ]
    }
   ],
   "source": [
    "fruitdf = bst.ModelDF(bst.ListDF(data, header), ycol=0) \n",
    "ginitree = bst.Tree(fruitdf, mingain=0, minrows=1, maxheight=10)"
   ]
  },
  {
   "cell_type": "code",
   "execution_count": 4,
   "metadata": {},
   "outputs": [
    {
     "data": {
      "text/plain": [
       "color \tdiameter\tfruit\n",
       "Yellow\t3.719   \tLemon\n",
       "Yellow\t4.394   \tLemon\n",
       "Green \t1.587   \tGrape\n",
       "Yellow\t4.403   \tLemon\n",
       "Yellow\t3.996   \tLemon\n",
       "Yellow\t3.754   \tLemon\n",
       "Green \t1.663   \tGrape\n",
       "Green \t1.306   \tGrape\n",
       "Green \t1.434   \tGrape\n",
       "Green \t1.371   \tGrape"
      ]
     },
     "execution_count": 4,
     "metadata": {},
     "output_type": "execute_result"
    }
   ],
   "source": [
    "fruitdf"
   ]
  },
  {
   "cell_type": "code",
   "execution_count": null,
   "metadata": {},
   "outputs": [],
   "source": []
  }
 ],
 "metadata": {
  "kernelspec": {
   "display_name": "Python 3",
   "language": "python",
   "name": "python3"
  },
  "language_info": {
   "codemirror_mode": {
    "name": "ipython",
    "version": 3
   },
   "file_extension": ".py",
   "mimetype": "text/x-python",
   "name": "python",
   "nbconvert_exporter": "python",
   "pygments_lexer": "ipython3",
   "version": "3.9.1"
  }
 },
 "nbformat": 4,
 "nbformat_minor": 4
}
