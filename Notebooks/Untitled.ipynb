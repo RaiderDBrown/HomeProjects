{
 "cells": [
  {
   "cell_type": "code",
   "execution_count": 51,
   "metadata": {},
   "outputs": [
    {
     "data": {
      "text/html": [
       "<table>\n",
       "<caption>A data.frame: 6 × 8</caption>\n",
       "<thead>\n",
       "\t<tr><th></th><th scope=col>X</th><th scope=col>feature</th><th scope=col>coef</th><th scope=col>std.err</th><th scope=col>t</th><th scope=col>P..t.</th><th scope=col>X.0.025</th><th scope=col>X0.975.</th></tr>\n",
       "\t<tr><th></th><th scope=col>&lt;int&gt;</th><th scope=col>&lt;chr&gt;</th><th scope=col>&lt;dbl&gt;</th><th scope=col>&lt;dbl&gt;</th><th scope=col>&lt;dbl&gt;</th><th scope=col>&lt;dbl&gt;</th><th scope=col>&lt;dbl&gt;</th><th scope=col>&lt;dbl&gt;</th></tr>\n",
       "</thead>\n",
       "<tbody>\n",
       "\t<tr><th scope=row>1</th><td>0</td><td>GSEC</td><td> 3.9739</td><td>5.507</td><td> 0.722</td><td>0.472</td><td> -6.922</td><td>14.870</td></tr>\n",
       "\t<tr><th scope=row>2</th><td>1</td><td>LS3 </td><td> 2.4747</td><td>5.295</td><td> 0.467</td><td>0.641</td><td> -8.001</td><td>12.951</td></tr>\n",
       "\t<tr><th scope=row>3</th><td>2</td><td>FC1 </td><td>-6.6747</td><td>4.477</td><td>-1.491</td><td>0.138</td><td>-15.532</td><td> 2.182</td></tr>\n",
       "\t<tr><th scope=row>4</th><td>3</td><td>YN2 </td><td> 1.5388</td><td>3.660</td><td> 0.420</td><td>0.675</td><td> -5.703</td><td> 8.781</td></tr>\n",
       "\t<tr><th scope=row>5</th><td>4</td><td>STG1</td><td>-2.3997</td><td>4.141</td><td>-0.580</td><td>0.563</td><td>-10.592</td><td> 5.793</td></tr>\n",
       "\t<tr><th scope=row>6</th><td>5</td><td>BM2 </td><td>-2.4314</td><td>4.665</td><td>-0.521</td><td>0.603</td><td>-11.661</td><td> 6.798</td></tr>\n",
       "</tbody>\n",
       "</table>\n"
      ],
      "text/latex": [
       "A data.frame: 6 × 8\n",
       "\\begin{tabular}{r|llllllll}\n",
       "  & X & feature & coef & std.err & t & P..t. & X.0.025 & X0.975.\\\\\n",
       "  & <int> & <chr> & <dbl> & <dbl> & <dbl> & <dbl> & <dbl> & <dbl>\\\\\n",
       "\\hline\n",
       "\t1 & 0 & GSEC &  3.9739 & 5.507 &  0.722 & 0.472 &  -6.922 & 14.870\\\\\n",
       "\t2 & 1 & LS3  &  2.4747 & 5.295 &  0.467 & 0.641 &  -8.001 & 12.951\\\\\n",
       "\t3 & 2 & FC1  & -6.6747 & 4.477 & -1.491 & 0.138 & -15.532 &  2.182\\\\\n",
       "\t4 & 3 & YN2  &  1.5388 & 3.660 &  0.420 & 0.675 &  -5.703 &  8.781\\\\\n",
       "\t5 & 4 & STG1 & -2.3997 & 4.141 & -0.580 & 0.563 & -10.592 &  5.793\\\\\n",
       "\t6 & 5 & BM2  & -2.4314 & 4.665 & -0.521 & 0.603 & -11.661 &  6.798\\\\\n",
       "\\end{tabular}\n"
      ],
      "text/markdown": [
       "\n",
       "A data.frame: 6 × 8\n",
       "\n",
       "| <!--/--> | X &lt;int&gt; | feature &lt;chr&gt; | coef &lt;dbl&gt; | std.err &lt;dbl&gt; | t &lt;dbl&gt; | P..t. &lt;dbl&gt; | X.0.025 &lt;dbl&gt; | X0.975. &lt;dbl&gt; |\n",
       "|---|---|---|---|---|---|---|---|---|\n",
       "| 1 | 0 | GSEC |  3.9739 | 5.507 |  0.722 | 0.472 |  -6.922 | 14.870 |\n",
       "| 2 | 1 | LS3  |  2.4747 | 5.295 |  0.467 | 0.641 |  -8.001 | 12.951 |\n",
       "| 3 | 2 | FC1  | -6.6747 | 4.477 | -1.491 | 0.138 | -15.532 |  2.182 |\n",
       "| 4 | 3 | YN2  |  1.5388 | 3.660 |  0.420 | 0.675 |  -5.703 |  8.781 |\n",
       "| 5 | 4 | STG1 | -2.3997 | 4.141 | -0.580 | 0.563 | -10.592 |  5.793 |\n",
       "| 6 | 5 | BM2  | -2.4314 | 4.665 | -0.521 | 0.603 | -11.661 |  6.798 |\n",
       "\n"
      ],
      "text/plain": [
       "  X feature coef    std.err t      P..t. X.0.025 X0.975.\n",
       "1 0 GSEC     3.9739 5.507    0.722 0.472  -6.922 14.870 \n",
       "2 1 LS3      2.4747 5.295    0.467 0.641  -8.001 12.951 \n",
       "3 2 FC1     -6.6747 4.477   -1.491 0.138 -15.532  2.182 \n",
       "4 3 YN2      1.5388 3.660    0.420 0.675  -5.703  8.781 \n",
       "5 4 STG1    -2.3997 4.141   -0.580 0.563 -10.592  5.793 \n",
       "6 5 BM2     -2.4314 4.665   -0.521 0.603 -11.661  6.798 "
      ]
     },
     "metadata": {},
     "output_type": "display_data"
    }
   ],
   "source": [
    "MAIN = \"C:\\\\Users\\\\Brown Planning\\\\Documents\\\\Innova\\\\\"\n",
    "REPO = \"data_science_poc\\\\PersonnelDeviation\\\\GIMME\\\\\"\n",
    "file = \"EnlRateCoefTbl.csv\"\n",
    "fpath = paste(MAIN, REPO, file, sep=\"\")\n",
    "df = read.csv(fpath, sep = ',')\n",
    "head(df)"
   ]
  },
  {
   "cell_type": "code",
   "execution_count": 52,
   "metadata": {},
   "outputs": [],
   "source": [
    "library(kableExtra)"
   ]
  },
  {
   "cell_type": "code",
   "execution_count": 65,
   "metadata": {},
   "outputs": [
    {
     "name": "stdout",
     "output_type": "stream",
     "text": [
      "**019** of the **235** Enl Rate Abbrvs have a significant (95% confidence) impact on Deviation\n",
      "**013** of the **019** significant effects <span style='color:red'>*increase*</span> Deviation\n",
      "**006** of the **019** significant effects <span style='color:blue'>*decrease*</span> DeviationNULL\n"
     ]
    }
   ],
   "source": [
    "nrows = nrow(df)\n",
    "sigs = df[which(df$P..t.<=0.05), c(-1)]\n",
    "possigs = sigs[which(sigs$coef > 0),]\n",
    "negsigs = sigs[which(sigs$coef < 0),]\n",
    "sigmsg = \"have a significant (95% confidence) impact on\"\n",
    "posmsg = \"<span style='color:red'>*increase*</span>\"\n",
    "negmsg = \"<span style='color:blue'>*decrease*</span>\"\n",
    "txt1 = sprintf(\"**%03d** of the **%03d** Enl Rate Abbrvs %s Deviation\", nrow(sigs), nrows, sigmsg)\n",
    "txt2 = sprintf(\"**%03d** of the **%03d** significant effects %s Deviation\", nrow(possigs), nrow(sigs), posmsg)\n",
    "txt3 = sprintf(\"**%03d** of the **%03d** significant effects %s Deviation\", nrow(negsigs), nrow(sigs), negmsg)\n",
    "print(cat(paste(txt1, txt2, txt3, sep=\"\\n\")))"
   ]
  },
  {
   "cell_type": "code",
   "execution_count": 86,
   "metadata": {},
   "outputs": [
    {
     "data": {
      "text/html": [
       "<table>\n",
       "<caption>A data.frame: 13 × 4</caption>\n",
       "<thead>\n",
       "\t<tr><th></th><th scope=col>pos feature</th><th scope=col>pos coef</th><th scope=col>neg feature</th><th scope=col>neg coef</th></tr>\n",
       "\t<tr><th></th><th scope=col>&lt;chr&gt;</th><th scope=col>&lt;dbl&gt;</th><th scope=col>&lt;chr&gt;</th><th scope=col>&lt;dbl&gt;</th></tr>\n",
       "</thead>\n",
       "<tbody>\n",
       "\t<tr><th scope=row>1</th><td>FCCS</td><td> 7.7167</td><td>MM1 </td><td>-15.4028</td></tr>\n",
       "\t<tr><th scope=row>2</th><td>OS2 </td><td> 8.3152</td><td>QMC </td><td> -8.9833</td></tr>\n",
       "\t<tr><th scope=row>3</th><td>CS2 </td><td> 9.1666</td><td>GSCS</td><td>-13.4223</td></tr>\n",
       "\t<tr><th scope=row>4</th><td>IC2 </td><td>11.0001</td><td>W12A</td><td> -8.9833</td></tr>\n",
       "\t<tr><th scope=row>5</th><td>761A</td><td>16.7569</td><td>V45B</td><td> -6.5749</td></tr>\n",
       "\t<tr><th scope=row>6</th><td>W23A</td><td> 9.1558</td><td>V91A</td><td>-10.9346</td></tr>\n",
       "\t<tr><th scope=row>7</th><td>V61B</td><td> 3.5101</td><td>NA  </td><td>      NA</td></tr>\n",
       "\t<tr><th scope=row>8</th><td>V87A</td><td>30.3995</td><td>NA  </td><td>      NA</td></tr>\n",
       "\t<tr><th scope=row>9</th><td>U55A</td><td>10.8123</td><td>NA  </td><td>      NA</td></tr>\n",
       "\t<tr><th scope=row>10</th><td>W16A</td><td>13.4330</td><td>NA  </td><td>      NA</td></tr>\n",
       "\t<tr><th scope=row>11</th><td>S13A</td><td> 9.1666</td><td>NA  </td><td>      NA</td></tr>\n",
       "\t<tr><th scope=row>12</th><td>V02B</td><td> 5.4462</td><td>NA  </td><td>      NA</td></tr>\n",
       "\t<tr><th scope=row>13</th><td>C02A</td><td>13.2920</td><td>NA  </td><td>      NA</td></tr>\n",
       "</tbody>\n",
       "</table>\n"
      ],
      "text/latex": [
       "A data.frame: 13 × 4\n",
       "\\begin{tabular}{r|llll}\n",
       "  & pos feature & pos coef & neg feature & neg coef\\\\\n",
       "  & <chr> & <dbl> & <chr> & <dbl>\\\\\n",
       "\\hline\n",
       "\t1 & FCCS &  7.7167 & MM1  & -15.4028\\\\\n",
       "\t2 & OS2  &  8.3152 & QMC  &  -8.9833\\\\\n",
       "\t3 & CS2  &  9.1666 & GSCS & -13.4223\\\\\n",
       "\t4 & IC2  & 11.0001 & W12A &  -8.9833\\\\\n",
       "\t5 & 761A & 16.7569 & V45B &  -6.5749\\\\\n",
       "\t6 & W23A &  9.1558 & V91A & -10.9346\\\\\n",
       "\t7 & V61B &  3.5101 & NA   &       NA\\\\\n",
       "\t8 & V87A & 30.3995 & NA   &       NA\\\\\n",
       "\t9 & U55A & 10.8123 & NA   &       NA\\\\\n",
       "\t10 & W16A & 13.4330 & NA   &       NA\\\\\n",
       "\t11 & S13A &  9.1666 & NA   &       NA\\\\\n",
       "\t12 & V02B &  5.4462 & NA   &       NA\\\\\n",
       "\t13 & C02A & 13.2920 & NA   &       NA\\\\\n",
       "\\end{tabular}\n"
      ],
      "text/markdown": [
       "\n",
       "A data.frame: 13 × 4\n",
       "\n",
       "| <!--/--> | pos feature &lt;chr&gt; | pos coef &lt;dbl&gt; | neg feature &lt;chr&gt; | neg coef &lt;dbl&gt; |\n",
       "|---|---|---|---|---|\n",
       "| 1 | FCCS |  7.7167 | MM1  | -15.4028 |\n",
       "| 2 | OS2  |  8.3152 | QMC  |  -8.9833 |\n",
       "| 3 | CS2  |  9.1666 | GSCS | -13.4223 |\n",
       "| 4 | IC2  | 11.0001 | W12A |  -8.9833 |\n",
       "| 5 | 761A | 16.7569 | V45B |  -6.5749 |\n",
       "| 6 | W23A |  9.1558 | V91A | -10.9346 |\n",
       "| 7 | V61B |  3.5101 | NA   |       NA |\n",
       "| 8 | V87A | 30.3995 | NA   |       NA |\n",
       "| 9 | U55A | 10.8123 | NA   |       NA |\n",
       "| 10 | W16A | 13.4330 | NA   |       NA |\n",
       "| 11 | S13A |  9.1666 | NA   |       NA |\n",
       "| 12 | V02B |  5.4462 | NA   |       NA |\n",
       "| 13 | C02A | 13.2920 | NA   |       NA |\n",
       "\n"
      ],
      "text/plain": [
       "   pos feature pos coef neg feature neg coef\n",
       "1  FCCS         7.7167  MM1         -15.4028\n",
       "2  OS2          8.3152  QMC          -8.9833\n",
       "3  CS2          9.1666  GSCS        -13.4223\n",
       "4  IC2         11.0001  W12A         -8.9833\n",
       "5  761A        16.7569  V45B         -6.5749\n",
       "6  W23A         9.1558  V91A        -10.9346\n",
       "7  V61B         3.5101  NA                NA\n",
       "8  V87A        30.3995  NA                NA\n",
       "9  U55A        10.8123  NA                NA\n",
       "10 W16A        13.4330  NA                NA\n",
       "11 S13A         9.1666  NA                NA\n",
       "12 V02B         5.4462  NA                NA\n",
       "13 C02A        13.2920  NA                NA"
      ]
     },
     "metadata": {},
     "output_type": "display_data"
    }
   ],
   "source": [
    "rownames(possigs) <- NULL\n",
    "sq <- seq(max(nrow(possigs), nrow(negsigs)))\n",
    "mdf <- data.frame(possigs[sq, 1:2], negsigs[sq,1:2])\n",
    "colnames(mdf) <- c(\"pos feature\", \"pos coef\", \"neg feature\", \"neg coef\")\n",
    "mdf"
   ]
  },
  {
   "cell_type": "code",
   "execution_count": 75,
   "metadata": {
    "scrolled": false
   },
   "outputs": [
    {
     "data": {
      "text/html": [
       "<table>\n",
       "<caption>A data.frame: 13 × 7</caption>\n",
       "<thead>\n",
       "\t<tr><th></th><th scope=col>feature</th><th scope=col>coef</th><th scope=col>std.err</th><th scope=col>t</th><th scope=col>P..t.</th><th scope=col>X.0.025</th><th scope=col>X0.975.</th></tr>\n",
       "\t<tr><th></th><th scope=col>&lt;chr&gt;</th><th scope=col>&lt;dbl&gt;</th><th scope=col>&lt;dbl&gt;</th><th scope=col>&lt;dbl&gt;</th><th scope=col>&lt;dbl&gt;</th><th scope=col>&lt;dbl&gt;</th><th scope=col>&lt;dbl&gt;</th></tr>\n",
       "</thead>\n",
       "<tbody>\n",
       "\t<tr><th scope=row>9</th><td>FCCS</td><td> 7.7167</td><td> 2.560</td><td>3.014</td><td>0.003</td><td>2.652</td><td>12.782</td></tr>\n",
       "\t<tr><th scope=row>25</th><td>OS2 </td><td> 8.3152</td><td> 2.969</td><td>2.801</td><td>0.006</td><td>2.442</td><td>14.189</td></tr>\n",
       "\t<tr><th scope=row>45</th><td>CS2 </td><td> 9.1666</td><td> 3.958</td><td>2.316</td><td>0.022</td><td>1.335</td><td>16.998</td></tr>\n",
       "\t<tr><th scope=row>91</th><td>IC2 </td><td>11.0001</td><td> 5.172</td><td>2.127</td><td>0.035</td><td>0.766</td><td>21.234</td></tr>\n",
       "\t<tr><th scope=row>105</th><td>761A</td><td>16.7569</td><td> 7.392</td><td>2.267</td><td>0.025</td><td>2.132</td><td>31.382</td></tr>\n",
       "\t<tr><th scope=row>111</th><td>W23A</td><td> 9.1558</td><td> 4.560</td><td>2.008</td><td>0.047</td><td>0.133</td><td>18.179</td></tr>\n",
       "\t<tr><th scope=row>113</th><td>V61B</td><td> 3.5101</td><td> 1.343</td><td>2.614</td><td>0.010</td><td>0.854</td><td> 6.166</td></tr>\n",
       "\t<tr><th scope=row>121</th><td>V87A</td><td>30.3995</td><td>12.311</td><td>2.469</td><td>0.015</td><td>6.042</td><td>54.757</td></tr>\n",
       "\t<tr><th scope=row>137</th><td>U55A</td><td>10.8123</td><td> 4.060</td><td>2.663</td><td>0.009</td><td>2.780</td><td>18.845</td></tr>\n",
       "\t<tr><th scope=row>159</th><td>W16A</td><td>13.4330</td><td> 4.630</td><td>2.901</td><td>0.004</td><td>4.273</td><td>22.593</td></tr>\n",
       "\t<tr><th scope=row>167</th><td>S13A</td><td> 9.1666</td><td> 3.958</td><td>2.316</td><td>0.022</td><td>1.335</td><td>16.998</td></tr>\n",
       "\t<tr><th scope=row>183</th><td>V02B</td><td> 5.4462</td><td> 2.465</td><td>2.210</td><td>0.029</td><td>0.570</td><td>10.323</td></tr>\n",
       "\t<tr><th scope=row>220</th><td>C02A</td><td>13.2920</td><td> 6.163</td><td>2.157</td><td>0.033</td><td>1.098</td><td>25.486</td></tr>\n",
       "</tbody>\n",
       "</table>\n"
      ],
      "text/latex": [
       "A data.frame: 13 × 7\n",
       "\\begin{tabular}{r|lllllll}\n",
       "  & feature & coef & std.err & t & P..t. & X.0.025 & X0.975.\\\\\n",
       "  & <chr> & <dbl> & <dbl> & <dbl> & <dbl> & <dbl> & <dbl>\\\\\n",
       "\\hline\n",
       "\t9 & FCCS &  7.7167 &  2.560 & 3.014 & 0.003 & 2.652 & 12.782\\\\\n",
       "\t25 & OS2  &  8.3152 &  2.969 & 2.801 & 0.006 & 2.442 & 14.189\\\\\n",
       "\t45 & CS2  &  9.1666 &  3.958 & 2.316 & 0.022 & 1.335 & 16.998\\\\\n",
       "\t91 & IC2  & 11.0001 &  5.172 & 2.127 & 0.035 & 0.766 & 21.234\\\\\n",
       "\t105 & 761A & 16.7569 &  7.392 & 2.267 & 0.025 & 2.132 & 31.382\\\\\n",
       "\t111 & W23A &  9.1558 &  4.560 & 2.008 & 0.047 & 0.133 & 18.179\\\\\n",
       "\t113 & V61B &  3.5101 &  1.343 & 2.614 & 0.010 & 0.854 &  6.166\\\\\n",
       "\t121 & V87A & 30.3995 & 12.311 & 2.469 & 0.015 & 6.042 & 54.757\\\\\n",
       "\t137 & U55A & 10.8123 &  4.060 & 2.663 & 0.009 & 2.780 & 18.845\\\\\n",
       "\t159 & W16A & 13.4330 &  4.630 & 2.901 & 0.004 & 4.273 & 22.593\\\\\n",
       "\t167 & S13A &  9.1666 &  3.958 & 2.316 & 0.022 & 1.335 & 16.998\\\\\n",
       "\t183 & V02B &  5.4462 &  2.465 & 2.210 & 0.029 & 0.570 & 10.323\\\\\n",
       "\t220 & C02A & 13.2920 &  6.163 & 2.157 & 0.033 & 1.098 & 25.486\\\\\n",
       "\\end{tabular}\n"
      ],
      "text/markdown": [
       "\n",
       "A data.frame: 13 × 7\n",
       "\n",
       "| <!--/--> | feature &lt;chr&gt; | coef &lt;dbl&gt; | std.err &lt;dbl&gt; | t &lt;dbl&gt; | P..t. &lt;dbl&gt; | X.0.025 &lt;dbl&gt; | X0.975. &lt;dbl&gt; |\n",
       "|---|---|---|---|---|---|---|---|\n",
       "| 9 | FCCS |  7.7167 |  2.560 | 3.014 | 0.003 | 2.652 | 12.782 |\n",
       "| 25 | OS2  |  8.3152 |  2.969 | 2.801 | 0.006 | 2.442 | 14.189 |\n",
       "| 45 | CS2  |  9.1666 |  3.958 | 2.316 | 0.022 | 1.335 | 16.998 |\n",
       "| 91 | IC2  | 11.0001 |  5.172 | 2.127 | 0.035 | 0.766 | 21.234 |\n",
       "| 105 | 761A | 16.7569 |  7.392 | 2.267 | 0.025 | 2.132 | 31.382 |\n",
       "| 111 | W23A |  9.1558 |  4.560 | 2.008 | 0.047 | 0.133 | 18.179 |\n",
       "| 113 | V61B |  3.5101 |  1.343 | 2.614 | 0.010 | 0.854 |  6.166 |\n",
       "| 121 | V87A | 30.3995 | 12.311 | 2.469 | 0.015 | 6.042 | 54.757 |\n",
       "| 137 | U55A | 10.8123 |  4.060 | 2.663 | 0.009 | 2.780 | 18.845 |\n",
       "| 159 | W16A | 13.4330 |  4.630 | 2.901 | 0.004 | 4.273 | 22.593 |\n",
       "| 167 | S13A |  9.1666 |  3.958 | 2.316 | 0.022 | 1.335 | 16.998 |\n",
       "| 183 | V02B |  5.4462 |  2.465 | 2.210 | 0.029 | 0.570 | 10.323 |\n",
       "| 220 | C02A | 13.2920 |  6.163 | 2.157 | 0.033 | 1.098 | 25.486 |\n",
       "\n"
      ],
      "text/plain": [
       "    feature coef    std.err t     P..t. X.0.025 X0.975.\n",
       "9   FCCS     7.7167  2.560  3.014 0.003 2.652   12.782 \n",
       "25  OS2      8.3152  2.969  2.801 0.006 2.442   14.189 \n",
       "45  CS2      9.1666  3.958  2.316 0.022 1.335   16.998 \n",
       "91  IC2     11.0001  5.172  2.127 0.035 0.766   21.234 \n",
       "105 761A    16.7569  7.392  2.267 0.025 2.132   31.382 \n",
       "111 W23A     9.1558  4.560  2.008 0.047 0.133   18.179 \n",
       "113 V61B     3.5101  1.343  2.614 0.010 0.854    6.166 \n",
       "121 V87A    30.3995 12.311  2.469 0.015 6.042   54.757 \n",
       "137 U55A    10.8123  4.060  2.663 0.009 2.780   18.845 \n",
       "159 W16A    13.4330  4.630  2.901 0.004 4.273   22.593 \n",
       "167 S13A     9.1666  3.958  2.316 0.022 1.335   16.998 \n",
       "183 V02B     5.4462  2.465  2.210 0.029 0.570   10.323 \n",
       "220 C02A    13.2920  6.163  2.157 0.033 1.098   25.486 "
      ]
     },
     "metadata": {},
     "output_type": "display_data"
    }
   ],
   "source": [
    "possigs"
   ]
  },
  {
   "cell_type": "code",
   "execution_count": null,
   "metadata": {},
   "outputs": [],
   "source": []
  }
 ],
 "metadata": {
  "kernelspec": {
   "display_name": "R",
   "language": "R",
   "name": "ir"
  },
  "language_info": {
   "codemirror_mode": "r",
   "file_extension": ".r",
   "mimetype": "text/x-r-source",
   "name": "R",
   "pygments_lexer": "r",
   "version": "4.0.3"
  }
 },
 "nbformat": 4,
 "nbformat_minor": 4
}
